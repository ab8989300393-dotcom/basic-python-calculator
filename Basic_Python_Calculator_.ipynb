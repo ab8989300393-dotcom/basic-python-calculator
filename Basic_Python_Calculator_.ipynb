{
  "nbformat": 4,
  "nbformat_minor": 0,
  "metadata": {
    "colab": {
      "provenance": []
    },
    "kernelspec": {
      "name": "python3",
      "display_name": "Python 3"
    },
    "language_info": {
      "name": "python"
    }
  },
  "cells": [
    {
      "cell_type": "code",
      "execution_count": null,
      "metadata": {
        "id": "T4MAsBdzK4Dw"
      },
      "outputs": [],
      "source": []
    },
    {
      "cell_type": "code",
      "source": [
        "# ================================\n",
        "# Basic Calculator with Gradio\n",
        "# Beginner Python Project for Colab\n",
        "# ================================\n",
        "\n",
        "!pip install -q gradio\n",
        "\n",
        "import gradio as gr\n",
        "\n",
        "# ------------------ Backend Logic ------------------\n",
        "def calculator(num1, num2, operation):\n",
        "    \"\"\"\n",
        "    Simple calculator backend logic.\n",
        "    Takes two numbers and an operation, returns the result.\n",
        "    \"\"\"\n",
        "    try:\n",
        "        num1 = float(num1)\n",
        "        num2 = float(num2)\n",
        "\n",
        "        if operation == \"Add\":\n",
        "            result = num1 + num2\n",
        "        elif operation == \"Subtract\":\n",
        "            result = num1 - num2\n",
        "        elif operation == \"Multiply\":\n",
        "            result = num1 * num2\n",
        "        elif operation == \"Divide\":\n",
        "            if num2 == 0:\n",
        "                return \"Error: Cannot divide by zero\"\n",
        "            result = num1 / num2\n",
        "        else:\n",
        "            return \"Invalid Operation\"\n",
        "\n",
        "        return f\"Result: {result}\"\n",
        "\n",
        "    except ValueError:\n",
        "        return \"Error: Please enter valid numbers.\"\n",
        "\n",
        "# ------------------ Gradio Interface ------------------\n",
        "def create_app():\n",
        "    with gr.Blocks(theme=gr.themes.Default(primary_hue=\"blue\")) as app:\n",
        "        gr.Markdown(\"# Basic Python Calculator\")\n",
        "\n",
        "\n",
        "        with gr.Row():\n",
        "            num1 = gr.Textbox(label=\"Enter First Number\", placeholder=\"e.g., 10\")\n",
        "            num2 = gr.Textbox(label=\"Enter Second Number\", placeholder=\"e.g., 5\")\n",
        "\n",
        "        operation = gr.Radio([\"Add\", \"Subtract\", \"Multiply\", \"Divide\"], label=\"Select Operation\")\n",
        "\n",
        "        calc_button = gr.Button(\"Calculate\")\n",
        "        output = gr.Textbox(label=\"Output\")\n",
        "\n",
        "        calc_button.click(fn=calculator, inputs=[num1, num2, operation], outputs=output)\n",
        "\n",
        "    return app\n",
        "\n",
        "# ------------------ Launch App ------------------\n",
        "if __name__ == \"__main__\":\n",
        "    app = create_app()\n",
        "    app.launch(share=True)\n"
      ],
      "metadata": {
        "colab": {
          "base_uri": "https://localhost:8080/",
          "height": 591
        },
        "id": "tVkOeI1kzHhw",
        "outputId": "2e42e07c-341e-4c19-8088-94371b6c5c21"
      },
      "execution_count": 2,
      "outputs": [
        {
          "output_type": "stream",
          "name": "stdout",
          "text": [
            "Colab notebook detected. To show errors in colab notebook, set debug=True in launch()\n",
            "* Running on public URL: https://399b44cc1afb7b6bab.gradio.live\n",
            "\n",
            "This share link expires in 1 week. For free permanent hosting and GPU upgrades, run `gradio deploy` from the terminal in the working directory to deploy to Hugging Face Spaces (https://huggingface.co/spaces)\n"
          ]
        },
        {
          "output_type": "display_data",
          "data": {
            "text/plain": [
              "<IPython.core.display.HTML object>"
            ],
            "text/html": [
              "<div><iframe src=\"https://399b44cc1afb7b6bab.gradio.live\" width=\"100%\" height=\"500\" allow=\"autoplay; camera; microphone; clipboard-read; clipboard-write;\" frameborder=\"0\" allowfullscreen></iframe></div>"
            ]
          },
          "metadata": {}
        }
      ]
    }
  ]
}